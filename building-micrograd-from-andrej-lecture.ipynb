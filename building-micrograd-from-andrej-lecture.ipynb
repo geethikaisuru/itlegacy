{
 "cells": [
  {
   "cell_type": "code",
   "execution_count": 1,
   "id": "09b39a7e",
   "metadata": {
    "execution": {
     "iopub.execute_input": "2023-11-30T10:52:48.674964Z",
     "iopub.status.busy": "2023-11-30T10:52:48.674625Z",
     "iopub.status.idle": "2023-11-30T10:52:48.684697Z",
     "shell.execute_reply": "2023-11-30T10:52:48.683775Z"
    },
    "papermill": {
     "duration": 0.021477,
     "end_time": "2023-11-30T10:52:48.686946",
     "exception": false,
     "start_time": "2023-11-30T10:52:48.665469",
     "status": "completed"
    },
    "tags": []
   },
   "outputs": [],
   "source": [
    "import math\n",
    "import numpy as np\n",
    "import matplotlib.pyplot as plt\n",
    "%matplotlib inline"
   ]
  },
  {
   "cell_type": "code",
   "execution_count": 2,
   "id": "a90c20c2",
   "metadata": {
    "execution": {
     "iopub.execute_input": "2023-11-30T10:52:48.698411Z",
     "iopub.status.busy": "2023-11-30T10:52:48.698133Z",
     "iopub.status.idle": "2023-11-30T10:52:48.702682Z",
     "shell.execute_reply": "2023-11-30T10:52:48.701230Z"
    },
    "papermill": {
     "duration": 0.012501,
     "end_time": "2023-11-30T10:52:48.704743",
     "exception": false,
     "start_time": "2023-11-30T10:52:48.692242",
     "status": "completed"
    },
    "tags": []
   },
   "outputs": [],
   "source": [
    "def f(x):\n",
    "    return 3*x**2 - 4 * x + 5"
   ]
  },
  {
   "cell_type": "code",
   "execution_count": 3,
   "id": "6f7f97c1",
   "metadata": {
    "execution": {
     "iopub.execute_input": "2023-11-30T10:52:48.716396Z",
     "iopub.status.busy": "2023-11-30T10:52:48.715689Z",
     "iopub.status.idle": "2023-11-30T10:52:48.721812Z",
     "shell.execute_reply": "2023-11-30T10:52:48.721035Z"
    },
    "papermill": {
     "duration": 0.013442,
     "end_time": "2023-11-30T10:52:48.723319",
     "exception": false,
     "start_time": "2023-11-30T10:52:48.709877",
     "status": "completed"
    },
    "tags": []
   },
   "outputs": [
    {
     "data": {
      "text/plain": [
       "20.0"
      ]
     },
     "execution_count": 3,
     "metadata": {},
     "output_type": "execute_result"
    }
   ],
   "source": [
    "f(3.0)"
   ]
  },
  {
   "cell_type": "code",
   "execution_count": 4,
   "id": "27712823",
   "metadata": {
    "execution": {
     "iopub.execute_input": "2023-11-30T10:52:48.735402Z",
     "iopub.status.busy": "2023-11-30T10:52:48.734794Z",
     "iopub.status.idle": "2023-11-30T10:52:48.949869Z",
     "shell.execute_reply": "2023-11-30T10:52:48.948877Z"
    },
    "papermill": {
     "duration": 0.223198,
     "end_time": "2023-11-30T10:52:48.951729",
     "exception": false,
     "start_time": "2023-11-30T10:52:48.728531",
     "status": "completed"
    },
    "tags": []
   },
   "outputs": [
    {
     "data": {
      "text/plain": [
       "[<matplotlib.lines.Line2D at 0x7c447bff45b0>]"
      ]
     },
     "execution_count": 4,
     "metadata": {},
     "output_type": "execute_result"
    },
    {
     "data": {
      "image/png": "[encoded data removed]",
      "text/plain": [
       "<Figure size 640x480 with 1 Axes>"
      ]
     },
     "metadata": {},
     "output_type": "display_data"
    }
   ],
   "source": [
    "xs = np.arange(-5, 5, 0.25)\n",
    "ys = f(xs)\n",
    "plt.plot(xs, ys)"
   ]
  },
  {
   "cell_type": "code",
   "execution_count": 5,
   "id": "036f5c89",
   "metadata": {
    "execution": {
     "iopub.execute_input": "2023-11-30T10:52:48.964224Z",
     "iopub.status.busy": "2023-11-30T10:52:48.963897Z",
     "iopub.status.idle": "2023-11-30T10:52:48.969774Z",
     "shell.execute_reply": "2023-11-30T10:52:48.968846Z"
    },
    "papermill": {
     "duration": 0.014111,
     "end_time": "2023-11-30T10:52:48.971380",
     "exception": false,
     "start_time": "2023-11-30T10:52:48.957269",
     "status": "completed"
    },
    "tags": []
   },
   "outputs": [
    {
     "data": {
      "text/plain": [
       "14.00003000000538"
      ]
     },
     "execution_count": 5,
     "metadata": {},
     "output_type": "execute_result"
    }
   ],
   "source": [
    "h = 0.00001\n",
    "x = 3.0\n",
    "(f(x + h) -f(x))/ h "
   ]
  },
  {
   "cell_type": "code",
   "execution_count": 6,
   "id": "20faad49",
   "metadata": {
    "execution": {
     "iopub.execute_input": "2023-11-30T10:52:48.983958Z",
     "iopub.status.busy": "2023-11-30T10:52:48.983580Z",
     "iopub.status.idle": "2023-11-30T10:52:48.989752Z",
     "shell.execute_reply": "2023-11-30T10:52:48.988560Z"
    },
    "papermill": {
     "duration": 0.015132,
     "end_time": "2023-11-30T10:52:48.991891",
     "exception": false,
     "start_time": "2023-11-30T10:52:48.976759",
     "status": "completed"
    },
    "tags": []
   },
   "outputs": [
    {
     "name": "stdout",
     "output_type": "stream",
     "text": [
      "d1 4.0\n",
      "d2 4.000000999999999\n",
      "slope 0.9999999992515995\n"
     ]
    }
   ],
   "source": [
    "h = 0.000001\n",
    "\n",
    "#inputs\n",
    "a = 2.0\n",
    "b = -3.0\n",
    "c = 10.0\n",
    "d1 = a * b + c\n",
    "c += h\n",
    "d2 = a * b + c\n",
    "\n",
    "print('d1', d1)\n",
    "print('d2', d2)\n",
    "print('slope', (d2-d1)/h)\n"
   ]
  },
  {
   "cell_type": "code",
   "execution_count": 7,
   "id": "3a9235df",
   "metadata": {
    "execution": {
     "iopub.execute_input": "2023-11-30T10:52:49.006386Z",
     "iopub.status.busy": "2023-11-30T10:52:49.005907Z",
     "iopub.status.idle": "2023-11-30T10:52:49.018959Z",
     "shell.execute_reply": "2023-11-30T10:52:49.017534Z"
    },
    "papermill": {
     "duration": 0.023941,
     "end_time": "2023-11-30T10:52:49.021536",
     "exception": false,
     "start_time": "2023-11-30T10:52:48.997595",
     "status": "completed"
    },
    "tags": []
   },
   "outputs": [],
   "source": [
    "class Value:\n",
    "    def __init__(self, data, _children = (), _op ='', label =''):\n",
    "        self.data=data\n",
    "        self.grad = 0\n",
    "        self._prev = set(_children)\n",
    "        self._op = _op\n",
    "        self._backwards = lambda : None\n",
    "        self.label = label\n",
    "        \n",
    "        \n",
    "    def __repr__(self):\n",
    "        return f\"Value(data={self.data})\"\n",
    "    \n",
    "    def __add__(self, other):\n",
    "        out = Value(self.data + other.data, (self, other), '+')\n",
    "        \n",
    "        def _backwards():\n",
    "            self.grad += 1.0 * out.grad\n",
    "            other.grad += 1.0 * out.grad\n",
    "        out._backwards = _backwards\n",
    "        return out\n",
    "    \n",
    "    def __mul__(self, other):\n",
    "        out = Value(self.data * other.data, (self, other), '*')\n",
    "        \n",
    "        def _backwards():\n",
    "            self.grad += other.grad * out.grad\n",
    "            other.grad += self.grad * out.grad\n",
    "        out._backwards = _backwards\n",
    "        \n",
    "        return out\n",
    "    \n",
    "    def tanh(self):\n",
    "        x = self.data\n",
    "        t = (math.exp(2 * x) -1) / math.exp(2 * x) + 1\n",
    "        out = Value(t, (self,), 'tanh')\n",
    "        \n",
    "        def _backwards():\n",
    "            self.grad = (1 - t**2) * out.grad\n",
    "        out._backwards = _backwards   \n",
    "        return out\n",
    "    \n",
    "    def _backwards(self):\n",
    "        \n",
    "        topo = []\n",
    "        visited = set()\n",
    "        def build_topo(v):\n",
    "            if v not in visited:\n",
    "                visited.add(v)\n",
    "                for child in v._prev:\n",
    "                    build_topo(child)\n",
    "                topo.append(v)\n",
    "        build_topo(self)\n",
    "        self.grad = 1.0\n",
    "        for node in reversed(topo):\n",
    "            node._backwards()\n",
    "    \n",
    "a = Value(2.0, label = 'a')\n",
    "b = Value(-3.0, label = 'b')\n",
    "c = Value(10.0,label = 'c')\n",
    "e = a*b; e.label = 'e'\n",
    "d = e + c; d.label = 'd'\n",
    "f = Value(-2.0, label= 'f')\n",
    "L = d * f; L.label = 'L'"
   ]
  },
  {
   "cell_type": "code",
   "execution_count": 8,
   "id": "1460bb4b",
   "metadata": {
    "execution": {
     "iopub.execute_input": "2023-11-30T10:52:49.035206Z",
     "iopub.status.busy": "2023-11-30T10:52:49.034776Z",
     "iopub.status.idle": "2023-11-30T10:52:49.041432Z",
     "shell.execute_reply": "2023-11-30T10:52:49.040204Z"
    },
    "papermill": {
     "duration": 0.015614,
     "end_time": "2023-11-30T10:52:49.043349",
     "exception": false,
     "start_time": "2023-11-30T10:52:49.027735",
     "status": "completed"
    },
    "tags": []
   },
   "outputs": [
    {
     "data": {
      "text/plain": [
       "'+'"
      ]
     },
     "execution_count": 8,
     "metadata": {},
     "output_type": "execute_result"
    }
   ],
   "source": [
    "d._prev\n",
    "d._op"
   ]
  },
  {
   "cell_type": "code",
   "execution_count": 9,
   "id": "9277cf73",
   "metadata": {
    "execution": {
     "iopub.execute_input": "2023-11-30T10:52:49.056399Z",
     "iopub.status.busy": "2023-11-30T10:52:49.056071Z",
     "iopub.status.idle": "2023-11-30T10:52:49.060324Z",
     "shell.execute_reply": "2023-11-30T10:52:49.059312Z"
    },
    "papermill": {
     "duration": 0.013422,
     "end_time": "2023-11-30T10:52:49.062795",
     "exception": false,
     "start_time": "2023-11-30T10:52:49.049373",
     "status": "completed"
    },
    "tags": []
   },
   "outputs": [],
   "source": [
    "L.grad = 1.0"
   ]
  },
  {
   "cell_type": "code",
   "execution_count": 10,
   "id": "21e769a1",
   "metadata": {
    "execution": {
     "iopub.execute_input": "2023-11-30T10:52:49.077332Z",
     "iopub.status.busy": "2023-11-30T10:52:49.076930Z",
     "iopub.status.idle": "2023-11-30T10:52:49.132987Z",
     "shell.execute_reply": "2023-11-30T10:52:49.131728Z"
    },
    "papermill": {
     "duration": 0.06653,
     "end_time": "2023-11-30T10:52:49.135763",
     "exception": false,
     "start_time": "2023-11-30T10:52:49.069233",
     "status": "completed"
    },
    "tags": []
   },
   "outputs": [],
   "source": [
    "from graphviz import Digraph\n",
    "\n",
    "def trace(root):\n",
    "  # builds a set of all nodes and edges in a graph\n",
    "  nodes, edges = set(), set()\n",
    "  def build(v):\n",
    "    if v not in nodes:\n",
    "      nodes.add(v)\n",
    "      for child in v._prev:\n",
    "        edges.add((child, v))\n",
    "        build(child)\n",
    "  build(root)\n",
    "  return nodes, edges\n",
    "\n",
    "def draw_dot(root):\n",
    "  dot = Digraph(format='svg', graph_attr={'rankdir': 'LR'}) # LR = left to right\n",
    "  \n",
    "  nodes, edges = trace(root)\n",
    "  for n in nodes:\n",
    "    uid = str(id(n))\n",
    "    # for any value in the graph, create a rectangular ('record') node for it\n",
    "    dot.node(name = uid, label = \"{ %s | data %.4f | grad %.4f }\" % (n.label, n.data, n.grad), shape='record')\n",
    "    if n._op:\n",
    "      # if this value is a result of some operation, create an op node for it\n",
    "      dot.node(name = uid + n._op, label = n._op)\n",
    "      # and connect this node to it\n",
    "      dot.edge(uid + n._op, uid)\n",
    "\n",
    "  for n1, n2 in edges:\n",
    "    # connect n1 to the op node of n2\n",
    "    dot.edge(str(id(n1)), str(id(n2)) + n2._op)\n",
    "\n",
    "  return dot"
   ]
  },
  {
   "cell_type": "code",
   "execution_count": 11,
   "id": "140b7afb",
   "metadata": {
    "execution": {
     "iopub.execute_input": "2023-11-30T10:52:49.149332Z",
     "iopub.status.busy": "2023-11-30T10:52:49.148961Z",
     "iopub.status.idle": "2023-11-30T10:52:49.156273Z",
     "shell.execute_reply": "2023-11-30T10:52:49.155263Z"
    },
    "papermill": {
     "duration": 0.016475,
     "end_time": "2023-11-30T10:52:49.158272",
     "exception": false,
     "start_time": "2023-11-30T10:52:49.141797",
     "status": "completed"
    },
    "tags": []
   },
   "outputs": [
    {
     "name": "stdout",
     "output_type": "stream",
     "text": [
      "0.9999999999976694\n"
     ]
    }
   ],
   "source": [
    "def lol():\n",
    "    \n",
    "    h = 0.0001\n",
    "    \n",
    "    a = Value(2.0, label = 'a')\n",
    "    b = Value(-3.0, label = 'b')\n",
    "    c = Value(10.0,label = 'c')\n",
    "    e = a*b; e.label = 'e'\n",
    "    d = e + c; d.label = 'd'\n",
    "    f = Value(-2.0, label= 'f')\n",
    "    L = d * f; L.label = 'L'\n",
    "    L1 = L.data\n",
    "\n",
    "    \n",
    "    a = Value(2.0, label = 'a')\n",
    "    b = Value(-3.0, label = 'b')\n",
    "    c = Value(10.0,label = 'c')\n",
    "    e = a*b; e.label = 'e'\n",
    "    d = e + c; d.label = 'd'\n",
    "    f = Value(-2.0, label= 'f')\n",
    "    L = d * f; L.label = 'L'\n",
    "    L2 = L.data + h\n",
    "    \n",
    "    print((L2- L1)/ h)\n",
    "    \n",
    "lol()"
   ]
  },
  {
   "cell_type": "markdown",
   "id": "8592a040",
   "metadata": {
    "papermill": {
     "duration": 0.00554,
     "end_time": "2023-11-30T10:52:49.169995",
     "exception": false,
     "start_time": "2023-11-30T10:52:49.164455",
     "status": "completed"
    },
    "tags": []
   },
   "source": []
  },
  {
   "cell_type": "code",
   "execution_count": 12,
   "id": "a3764487",
   "metadata": {
    "execution": {
     "iopub.execute_input": "2023-11-30T10:52:49.183670Z",
     "iopub.status.busy": "2023-11-30T10:52:49.183322Z",
     "iopub.status.idle": "2023-11-30T10:52:49.189810Z",
     "shell.execute_reply": "2023-11-30T10:52:49.188424Z"
    },
    "papermill": {
     "duration": 0.016442,
     "end_time": "2023-11-30T10:52:49.192600",
     "exception": false,
     "start_time": "2023-11-30T10:52:49.176158",
     "status": "completed"
    },
    "tags": []
   },
   "outputs": [
    {
     "name": "stdout",
     "output_type": "stream",
     "text": [
      "-8.0\n"
     ]
    }
   ],
   "source": [
    "a.data += 0.01 * a.grad\n",
    "b.data += 0.01 * b.grad\n",
    "c.data += 0.01 * c.grad\n",
    "f.data += 0.01 * f.grad\n",
    "\n",
    "e = a * b\n",
    "d = e + c\n",
    "L = d * f\n",
    "\n",
    "print(L.data)"
   ]
  },
  {
   "cell_type": "code",
   "execution_count": 13,
   "id": "d052cb27",
   "metadata": {
    "execution": {
     "iopub.execute_input": "2023-11-30T10:52:49.206955Z",
     "iopub.status.busy": "2023-11-30T10:52:49.206410Z",
     "iopub.status.idle": "2023-11-30T10:52:49.421963Z",
     "shell.execute_reply": "2023-11-30T10:52:49.421293Z"
    },
    "papermill": {
     "duration": 0.224695,
     "end_time": "2023-11-30T10:52:49.423672",
     "exception": false,
     "start_time": "2023-11-30T10:52:49.198977",
     "status": "completed"
    },
    "tags": []
   },
   "outputs": [
    {
     "data": {
      "image/svg+xml": [
       "<?xml version=\"1.0\" encoding=\"UTF-8\" standalone=\"no\"?>\n",
       "<!DOCTYPE svg PUBLIC \"-//W3C//DTD SVG 1.1//EN\"\n",
       " \"http://www.w3.org/Graphics/SVG/1.1/DTD/svg11.dtd\">\n",
       "<!-- Generated by graphviz version 8.1.0 (20230707.2238)\n",
       " -->\n",
       "<!-- Pages: 1 -->\n",
       "<svg width=\"1317pt\" height=\"154pt\"\n",
       " viewBox=\"0.00 0.00 1316.75 154.00\" xmlns=\"http://www.w3.org/2000/svg\" xmlns:xlink=\"http://www.w3.org/1999/xlink\">\n",
       "<g id=\"graph0\" class=\"graph\" transform=\"scale(1 1) rotate(0) translate(4 150)\">\n",
       "<polygon fill=\"white\" stroke=\"none\" points=\"-4,4 -4,-150 1312.75,-150 1312.75,4 -4,4\"/>\n",
       "<!-- 136633536637072 -->\n",
       "<g id=\"node1\" class=\"node\">\n",
       "<title>136633536637072</title>\n",
       "<polygon fill=\"none\" stroke=\"black\" points=\"723,-109.5 723,-145.5 953.25,-145.5 953.25,-109.5 723,-109.5\"/>\n",
       "<text text-anchor=\"middle\" x=\"733.62\" y=\"-123.2\" font-family=\"Times,serif\" font-size=\"14.00\">f</text>\n",
       "<polyline fill=\"none\" stroke=\"black\" points=\"744.25,-110.25 744.25,-145.5\"/>\n",
       "<text text-anchor=\"middle\" x=\"797.25\" y=\"-123.2\" font-family=\"Times,serif\" font-size=\"14.00\">data &#45;2.0000</text>\n",
       "<polyline fill=\"none\" stroke=\"black\" points=\"850.25,-110.25 850.25,-145.5\"/>\n",
       "<text text-anchor=\"middle\" x=\"901.75\" y=\"-123.2\" font-family=\"Times,serif\" font-size=\"14.00\">grad 0.0000</text>\n",
       "</g>\n",
       "<!-- 136633536626848* -->\n",
       "<g id=\"node3\" class=\"node\">\n",
       "<title>136633536626848*</title>\n",
       "<ellipse fill=\"none\" stroke=\"black\" cx=\"1016.25\" cy=\"-99.5\" rx=\"27\" ry=\"18\"/>\n",
       "<text text-anchor=\"middle\" x=\"1016.25\" y=\"-94.83\" font-family=\"Times,serif\" font-size=\"14.00\">*</text>\n",
       "</g>\n",
       "<!-- 136633536637072&#45;&gt;136633536626848* -->\n",
       "<g id=\"edge8\" class=\"edge\">\n",
       "<title>136633536637072&#45;&gt;136633536626848*</title>\n",
       "<path fill=\"none\" stroke=\"black\" d=\"M952.16,-109.53C961.63,-108.02 970.68,-106.59 978.82,-105.29\"/>\n",
       "<polygon fill=\"black\" stroke=\"black\" points=\"979.35,-108.59 988.68,-103.57 978.25,-101.68 979.35,-108.59\"/>\n",
       "</g>\n",
       "<!-- 136633536626848 -->\n",
       "<g id=\"node2\" class=\"node\">\n",
       "<title>136633536626848</title>\n",
       "<polygon fill=\"none\" stroke=\"black\" points=\"1079.25,-81.5 1079.25,-117.5 1308.75,-117.5 1308.75,-81.5 1079.25,-81.5\"/>\n",
       "<text text-anchor=\"middle\" x=\"1089.5\" y=\"-95.2\" font-family=\"Times,serif\" font-size=\"14.00\"> </text>\n",
       "<polyline fill=\"none\" stroke=\"black\" points=\"1099.75,-82.25 1099.75,-117.5\"/>\n",
       "<text text-anchor=\"middle\" x=\"1152.75\" y=\"-95.2\" font-family=\"Times,serif\" font-size=\"14.00\">data &#45;8.0000</text>\n",
       "<polyline fill=\"none\" stroke=\"black\" points=\"1205.75,-82.25 1205.75,-117.5\"/>\n",
       "<text text-anchor=\"middle\" x=\"1257.25\" y=\"-95.2\" font-family=\"Times,serif\" font-size=\"14.00\">grad 0.0000</text>\n",
       "</g>\n",
       "<!-- 136633536626848*&#45;&gt;136633536626848 -->\n",
       "<g id=\"edge1\" class=\"edge\">\n",
       "<title>136633536626848*&#45;&gt;136633536626848</title>\n",
       "<path fill=\"none\" stroke=\"black\" d=\"M1043.56,-99.5C1050.86,-99.5 1059.29,-99.5 1068.36,-99.5\"/>\n",
       "<polygon fill=\"black\" stroke=\"black\" points=\"1068.27,-103 1078.27,-99.5 1068.27,-96 1068.27,-103\"/>\n",
       "</g>\n",
       "<!-- 136633536641296 -->\n",
       "<g id=\"node4\" class=\"node\">\n",
       "<title>136633536641296</title>\n",
       "<polygon fill=\"none\" stroke=\"black\" points=\"360,-82.5 360,-118.5 597,-118.5 597,-82.5 360,-82.5\"/>\n",
       "<text text-anchor=\"middle\" x=\"371.75\" y=\"-96.2\" font-family=\"Times,serif\" font-size=\"14.00\">c</text>\n",
       "<polyline fill=\"none\" stroke=\"black\" points=\"383.5,-83.25 383.5,-118.5\"/>\n",
       "<text text-anchor=\"middle\" x=\"438.75\" y=\"-96.2\" font-family=\"Times,serif\" font-size=\"14.00\">data 10.0000</text>\n",
       "<polyline fill=\"none\" stroke=\"black\" points=\"494,-83.25 494,-118.5\"/>\n",
       "<text text-anchor=\"middle\" x=\"545.5\" y=\"-96.2\" font-family=\"Times,serif\" font-size=\"14.00\">grad 0.0000</text>\n",
       "</g>\n",
       "<!-- 136633536631600+ -->\n",
       "<g id=\"node8\" class=\"node\">\n",
       "<title>136633536631600+</title>\n",
       "<ellipse fill=\"none\" stroke=\"black\" cx=\"660\" cy=\"-72.5\" rx=\"27\" ry=\"18\"/>\n",
       "<text text-anchor=\"middle\" x=\"660\" y=\"-67.83\" font-family=\"Times,serif\" font-size=\"14.00\">+</text>\n",
       "</g>\n",
       "<!-- 136633536641296&#45;&gt;136633536631600+ -->\n",
       "<g id=\"edge4\" class=\"edge\">\n",
       "<title>136633536641296&#45;&gt;136633536631600+</title>\n",
       "<path fill=\"none\" stroke=\"black\" d=\"M594.7,-82.53C604.56,-80.99 613.97,-79.52 622.4,-78.21\"/>\n",
       "<polygon fill=\"black\" stroke=\"black\" points=\"622.9,-81.52 632.24,-76.52 621.82,-74.6 622.9,-81.52\"/>\n",
       "</g>\n",
       "<!-- 136633536637216 -->\n",
       "<g id=\"node5\" class=\"node\">\n",
       "<title>136633536637216</title>\n",
       "<polygon fill=\"none\" stroke=\"black\" points=\"363.75,-27.5 363.75,-63.5 593.25,-63.5 593.25,-27.5 363.75,-27.5\"/>\n",
       "<text text-anchor=\"middle\" x=\"374\" y=\"-41.2\" font-family=\"Times,serif\" font-size=\"14.00\"> </text>\n",
       "<polyline fill=\"none\" stroke=\"black\" points=\"384.25,-28.25 384.25,-63.5\"/>\n",
       "<text text-anchor=\"middle\" x=\"437.25\" y=\"-41.2\" font-family=\"Times,serif\" font-size=\"14.00\">data &#45;6.0000</text>\n",
       "<polyline fill=\"none\" stroke=\"black\" points=\"490.25,-28.25 490.25,-63.5\"/>\n",
       "<text text-anchor=\"middle\" x=\"541.75\" y=\"-41.2\" font-family=\"Times,serif\" font-size=\"14.00\">grad 0.0000</text>\n",
       "</g>\n",
       "<!-- 136633536637216&#45;&gt;136633536631600+ -->\n",
       "<g id=\"edge6\" class=\"edge\">\n",
       "<title>136633536637216&#45;&gt;136633536631600+</title>\n",
       "<path fill=\"none\" stroke=\"black\" d=\"M593.18,-62.6C603.65,-64.17 613.65,-65.68 622.55,-67.02\"/>\n",
       "<polygon fill=\"black\" stroke=\"black\" points=\"621.79,-70.59 632.2,-68.62 622.83,-63.67 621.79,-70.59\"/>\n",
       "</g>\n",
       "<!-- 136633536637216* -->\n",
       "<g id=\"node6\" class=\"node\">\n",
       "<title>136633536637216*</title>\n",
       "<ellipse fill=\"none\" stroke=\"black\" cx=\"297\" cy=\"-45.5\" rx=\"27\" ry=\"18\"/>\n",
       "<text text-anchor=\"middle\" x=\"297\" y=\"-40.83\" font-family=\"Times,serif\" font-size=\"14.00\">*</text>\n",
       "</g>\n",
       "<!-- 136633536637216*&#45;&gt;136633536637216 -->\n",
       "<g id=\"edge2\" class=\"edge\">\n",
       "<title>136633536637216*&#45;&gt;136633536637216</title>\n",
       "<path fill=\"none\" stroke=\"black\" d=\"M324.49,-45.5C332.82,-45.5 342.64,-45.5 353.22,-45.5\"/>\n",
       "<polygon fill=\"black\" stroke=\"black\" points=\"353.02,-49 363.02,-45.5 353.02,-42 353.02,-49\"/>\n",
       "</g>\n",
       "<!-- 136633536631600 -->\n",
       "<g id=\"node7\" class=\"node\">\n",
       "<title>136633536631600</title>\n",
       "<polygon fill=\"none\" stroke=\"black\" points=\"725.62,-54.5 725.62,-90.5 950.62,-90.5 950.62,-54.5 725.62,-54.5\"/>\n",
       "<text text-anchor=\"middle\" x=\"735.88\" y=\"-68.2\" font-family=\"Times,serif\" font-size=\"14.00\"> </text>\n",
       "<polyline fill=\"none\" stroke=\"black\" points=\"746.12,-55.25 746.12,-90.5\"/>\n",
       "<text text-anchor=\"middle\" x=\"796.88\" y=\"-68.2\" font-family=\"Times,serif\" font-size=\"14.00\">data 4.0000</text>\n",
       "<polyline fill=\"none\" stroke=\"black\" points=\"847.62,-55.25 847.62,-90.5\"/>\n",
       "<text text-anchor=\"middle\" x=\"899.12\" y=\"-68.2\" font-family=\"Times,serif\" font-size=\"14.00\">grad 0.0000</text>\n",
       "</g>\n",
       "<!-- 136633536631600&#45;&gt;136633536626848* -->\n",
       "<g id=\"edge9\" class=\"edge\">\n",
       "<title>136633536631600&#45;&gt;136633536626848*</title>\n",
       "<path fill=\"none\" stroke=\"black\" d=\"M950.17,-89.52C960.29,-91.08 969.98,-92.56 978.65,-93.89\"/>\n",
       "<polygon fill=\"black\" stroke=\"black\" points=\"977.99,-97.48 988.4,-95.54 979.05,-90.56 977.99,-97.48\"/>\n",
       "</g>\n",
       "<!-- 136633536631600+&#45;&gt;136633536631600 -->\n",
       "<g id=\"edge3\" class=\"edge\">\n",
       "<title>136633536631600+&#45;&gt;136633536631600</title>\n",
       "<path fill=\"none\" stroke=\"black\" d=\"M687.37,-72.5C695.42,-72.5 704.85,-72.5 714.99,-72.5\"/>\n",
       "<polygon fill=\"black\" stroke=\"black\" points=\"714.79,-76 724.79,-72.5 714.79,-69 714.79,-76\"/>\n",
       "</g>\n",
       "<!-- 136633536641344 -->\n",
       "<g id=\"node9\" class=\"node\">\n",
       "<title>136633536641344</title>\n",
       "<polygon fill=\"none\" stroke=\"black\" points=\"0,-55.5 0,-91.5 234,-91.5 234,-55.5 0,-55.5\"/>\n",
       "<text text-anchor=\"middle\" x=\"12.5\" y=\"-69.2\" font-family=\"Times,serif\" font-size=\"14.00\">b</text>\n",
       "<polyline fill=\"none\" stroke=\"black\" points=\"25,-56.25 25,-91.5\"/>\n",
       "<text text-anchor=\"middle\" x=\"78\" y=\"-69.2\" font-family=\"Times,serif\" font-size=\"14.00\">data &#45;3.0000</text>\n",
       "<polyline fill=\"none\" stroke=\"black\" points=\"131,-56.25 131,-91.5\"/>\n",
       "<text text-anchor=\"middle\" x=\"182.5\" y=\"-69.2\" font-family=\"Times,serif\" font-size=\"14.00\">grad 0.0000</text>\n",
       "</g>\n",
       "<!-- 136633536641344&#45;&gt;136633536637216* -->\n",
       "<g id=\"edge5\" class=\"edge\">\n",
       "<title>136633536641344&#45;&gt;136633536637216*</title>\n",
       "<path fill=\"none\" stroke=\"black\" d=\"M232.24,-55.53C242.02,-53.99 251.35,-52.52 259.71,-51.21\"/>\n",
       "<polygon fill=\"black\" stroke=\"black\" points=\"260.13,-54.53 269.46,-49.52 259.04,-47.61 260.13,-54.53\"/>\n",
       "</g>\n",
       "<!-- 136633536641440 -->\n",
       "<g id=\"node10\" class=\"node\">\n",
       "<title>136633536641440</title>\n",
       "<polygon fill=\"none\" stroke=\"black\" points=\"2.62,-0.5 2.62,-36.5 231.38,-36.5 231.38,-0.5 2.62,-0.5\"/>\n",
       "<text text-anchor=\"middle\" x=\"14.75\" y=\"-14.2\" font-family=\"Times,serif\" font-size=\"14.00\">a</text>\n",
       "<polyline fill=\"none\" stroke=\"black\" points=\"26.88,-1.25 26.88,-36.5\"/>\n",
       "<text text-anchor=\"middle\" x=\"77.62\" y=\"-14.2\" font-family=\"Times,serif\" font-size=\"14.00\">data 2.0000</text>\n",
       "<polyline fill=\"none\" stroke=\"black\" points=\"128.38,-1.25 128.38,-36.5\"/>\n",
       "<text text-anchor=\"middle\" x=\"179.88\" y=\"-14.2\" font-family=\"Times,serif\" font-size=\"14.00\">grad 0.0000</text>\n",
       "</g>\n",
       "<!-- 136633536641440&#45;&gt;136633536637216* -->\n",
       "<g id=\"edge7\" class=\"edge\">\n",
       "<title>136633536641440&#45;&gt;136633536637216*</title>\n",
       "<path fill=\"none\" stroke=\"black\" d=\"M231.23,-35.68C241.34,-37.21 251,-38.67 259.62,-39.98\"/>\n",
       "<polygon fill=\"black\" stroke=\"black\" points=\"258.91,-43.57 269.32,-41.61 259.96,-36.64 258.91,-43.57\"/>\n",
       "</g>\n",
       "</g>\n",
       "</svg>\n"
      ],
      "text/plain": [
       "<graphviz.graphs.Digraph at 0x7c44796a5240>"
      ]
     },
     "execution_count": 13,
     "metadata": {},
     "output_type": "execute_result"
    }
   ],
   "source": [
    "draw_dot(L)"
   ]
  },
  {
   "cell_type": "code",
   "execution_count": 14,
   "id": "26ca3191",
   "metadata": {
    "execution": {
     "iopub.execute_input": "2023-11-30T10:52:49.437736Z",
     "iopub.status.busy": "2023-11-30T10:52:49.437343Z",
     "iopub.status.idle": "2023-11-30T10:52:49.635189Z",
     "shell.execute_reply": "2023-11-30T10:52:49.634536Z"
    },
    "papermill": {
     "duration": 0.207393,
     "end_time": "2023-11-30T10:52:49.637189",
     "exception": false,
     "start_time": "2023-11-30T10:52:49.429796",
     "status": "completed"
    },
    "tags": []
   },
   "outputs": [
    {
     "data": {
      "image/png": "[encoded data removed]",
      "text/plain": [
       "<Figure size 640x480 with 1 Axes>"
      ]
     },
     "metadata": {},
     "output_type": "display_data"
    }
   ],
   "source": [
    "plt.plot(np.arange(-5, 5, 0.2), np.tanh(np.arange(-5, 5, 0.2)));plt.grid();"
   ]
  },
  {
   "cell_type": "code",
   "execution_count": 15,
   "id": "0a5a6265",
   "metadata": {
    "execution": {
     "iopub.execute_input": "2023-11-30T10:52:49.652561Z",
     "iopub.status.busy": "2023-11-30T10:52:49.652214Z",
     "iopub.status.idle": "2023-11-30T10:52:49.658498Z",
     "shell.execute_reply": "2023-11-30T10:52:49.657405Z"
    },
    "papermill": {
     "duration": 0.015567,
     "end_time": "2023-11-30T10:52:49.660285",
     "exception": false,
     "start_time": "2023-11-30T10:52:49.644718",
     "status": "completed"
    },
    "tags": []
   },
   "outputs": [],
   "source": [
    "#inputs\n",
    "x1 = Value(2.0, label ='x1')\n",
    "x2 = Value(0.0, label ='x2')\n",
    "#weights \n",
    "w1 = Value(-3.0, label ='w1')\n",
    "w2 = Value(1.0, label ='w2')\n",
    "#bias\n",
    "b = Value(6.8813735870195432, label ='b')\n",
    "x1w1 = x1*w1 ;x1w1.label ='x1 * w1'\n",
    "x2w2 = x2*w2 ;x2w2.label ='x2 * w2'\n",
    "x1w1x2w2 =  x1w1 + x2w2; x1w1x2w2.label = 'x1w1 + x2w2'\n",
    "n = x1w1x2w2 + b; n.label = 'n'\n",
    "o = n.tanh(); o.label='o'"
   ]
  },
  {
   "cell_type": "code",
   "execution_count": 16,
   "id": "d4a5940b",
   "metadata": {
    "execution": {
     "iopub.execute_input": "2023-11-30T10:52:49.675056Z",
     "iopub.status.busy": "2023-11-30T10:52:49.674728Z",
     "iopub.status.idle": "2023-11-30T10:52:49.697363Z",
     "shell.execute_reply": "2023-11-30T10:52:49.696497Z"
    },
    "papermill": {
     "duration": 0.031823,
     "end_time": "2023-11-30T10:52:49.699075",
     "exception": false,
     "start_time": "2023-11-30T10:52:49.667252",
     "status": "completed"
    },
    "tags": []
   },
   "outputs": [
    {
     "data": {
      "image/svg+xml": [
       "<?xml version=\"1.0\" encoding=\"UTF-8\" standalone=\"no\"?>\n",
       "<!DOCTYPE svg PUBLIC \"-//W3C//DTD SVG 1.1//EN\"\n",
       " \"http://www.w3.org/Graphics/SVG/1.1/DTD/svg11.dtd\">\n",
       "<!-- Generated by graphviz version 8.1.0 (20230707.2238)\n",
       " -->\n",
       "<!-- Pages: 1 -->\n",
       "<svg width=\"1831pt\" height=\"210pt\"\n",
       " viewBox=\"0.00 0.00 1831.44 210.00\" xmlns=\"http://www.w3.org/2000/svg\" xmlns:xlink=\"http://www.w3.org/1999/xlink\">\n",
       "<g id=\"graph0\" class=\"graph\" transform=\"scale(1 1) rotate(0) translate(4 206)\">\n",
       "<polygon fill=\"white\" stroke=\"none\" points=\"-4,4 -4,-206 1827.44,-206 1827.44,4 -4,4\"/>\n",
       "<!-- 136633537421344 -->\n",
       "<g id=\"node1\" class=\"node\">\n",
       "<title>136633537421344</title>\n",
       "<polygon fill=\"none\" stroke=\"black\" points=\"374.25,-55.5 374.25,-91.5 648.75,-91.5 648.75,-55.5 374.25,-55.5\"/>\n",
       "<text text-anchor=\"middle\" x=\"409.25\" y=\"-69.2\" font-family=\"Times,serif\" font-size=\"14.00\">x2 * w2</text>\n",
       "<polyline fill=\"none\" stroke=\"black\" points=\"444.25,-56.25 444.25,-91.5\"/>\n",
       "<text text-anchor=\"middle\" x=\"495\" y=\"-69.2\" font-family=\"Times,serif\" font-size=\"14.00\">data 0.0000</text>\n",
       "<polyline fill=\"none\" stroke=\"black\" points=\"545.75,-56.25 545.75,-91.5\"/>\n",
       "<text text-anchor=\"middle\" x=\"597.25\" y=\"-69.2\" font-family=\"Times,serif\" font-size=\"14.00\">grad 0.0000</text>\n",
       "</g>\n",
       "<!-- 136633537421440+ -->\n",
       "<g id=\"node4\" class=\"node\">\n",
       "<title>136633537421440+</title>\n",
       "<ellipse fill=\"none\" stroke=\"black\" cx=\"714\" cy=\"-100.5\" rx=\"27\" ry=\"18\"/>\n",
       "<text text-anchor=\"middle\" x=\"714\" y=\"-95.83\" font-family=\"Times,serif\" font-size=\"14.00\">+</text>\n",
       "</g>\n",
       "<!-- 136633537421344&#45;&gt;136633537421440+ -->\n",
       "<g id=\"edge10\" class=\"edge\">\n",
       "<title>136633537421344&#45;&gt;136633537421440+</title>\n",
       "<path fill=\"none\" stroke=\"black\" d=\"M645.96,-91.47C656.91,-92.95 667.26,-94.34 676.4,-95.57\"/>\n",
       "<polygon fill=\"black\" stroke=\"black\" points=\"675.92,-99.17 686.3,-97.04 676.85,-92.24 675.92,-99.17\"/>\n",
       "</g>\n",
       "<!-- 136633537421344* -->\n",
       "<g id=\"node2\" class=\"node\">\n",
       "<title>136633537421344*</title>\n",
       "<ellipse fill=\"none\" stroke=\"black\" cx=\"309\" cy=\"-73.5\" rx=\"27\" ry=\"18\"/>\n",
       "<text text-anchor=\"middle\" x=\"309\" y=\"-68.83\" font-family=\"Times,serif\" font-size=\"14.00\">*</text>\n",
       "</g>\n",
       "<!-- 136633537421344*&#45;&gt;136633537421344 -->\n",
       "<g id=\"edge1\" class=\"edge\">\n",
       "<title>136633537421344*&#45;&gt;136633537421344</title>\n",
       "<path fill=\"none\" stroke=\"black\" d=\"M336.21,-73.5C344.17,-73.5 353.53,-73.5 363.72,-73.5\"/>\n",
       "<polygon fill=\"black\" stroke=\"black\" points=\"363.61,-77 373.61,-73.5 363.61,-70 363.61,-77\"/>\n",
       "</g>\n",
       "<!-- 136633537421440 -->\n",
       "<g id=\"node3\" class=\"node\">\n",
       "<title>136633537421440</title>\n",
       "<polygon fill=\"none\" stroke=\"black\" points=\"777,-82.5 777,-118.5 1099.5,-118.5 1099.5,-82.5 777,-82.5\"/>\n",
       "<text text-anchor=\"middle\" x=\"833.75\" y=\"-96.2\" font-family=\"Times,serif\" font-size=\"14.00\">x1w1 + x2w2</text>\n",
       "<polyline fill=\"none\" stroke=\"black\" points=\"890.5,-83.25 890.5,-118.5\"/>\n",
       "<text text-anchor=\"middle\" x=\"943.5\" y=\"-96.2\" font-family=\"Times,serif\" font-size=\"14.00\">data &#45;6.0000</text>\n",
       "<polyline fill=\"none\" stroke=\"black\" points=\"996.5,-83.25 996.5,-118.5\"/>\n",
       "<text text-anchor=\"middle\" x=\"1048\" y=\"-96.2\" font-family=\"Times,serif\" font-size=\"14.00\">grad 0.0000</text>\n",
       "</g>\n",
       "<!-- 136633537422208+ -->\n",
       "<g id=\"node12\" class=\"node\">\n",
       "<title>136633537422208+</title>\n",
       "<ellipse fill=\"none\" stroke=\"black\" cx=\"1162.5\" cy=\"-127.5\" rx=\"27\" ry=\"18\"/>\n",
       "<text text-anchor=\"middle\" x=\"1162.5\" y=\"-122.83\" font-family=\"Times,serif\" font-size=\"14.00\">+</text>\n",
       "</g>\n",
       "<!-- 136633537421440&#45;&gt;136633537422208+ -->\n",
       "<g id=\"edge14\" class=\"edge\">\n",
       "<title>136633537421440&#45;&gt;136633537422208+</title>\n",
       "<path fill=\"none\" stroke=\"black\" d=\"M1087.18,-118.47C1100.82,-120.13 1113.63,-121.68 1124.64,-123.02\"/>\n",
       "<polygon fill=\"black\" stroke=\"black\" points=\"1124.08,-126.6 1134.43,-124.33 1124.92,-119.65 1124.08,-126.6\"/>\n",
       "</g>\n",
       "<!-- 136633537421440+&#45;&gt;136633537421440 -->\n",
       "<g id=\"edge2\" class=\"edge\">\n",
       "<title>136633537421440+&#45;&gt;136633537421440</title>\n",
       "<path fill=\"none\" stroke=\"black\" d=\"M741.37,-100.5C748.64,-100.5 757.1,-100.5 766.34,-100.5\"/>\n",
       "<polygon fill=\"black\" stroke=\"black\" points=\"766.09,-104 776.09,-100.5 766.09,-97 766.09,-104\"/>\n",
       "</g>\n",
       "<!-- 136633537328848 -->\n",
       "<g id=\"node5\" class=\"node\">\n",
       "<title>136633537328848</title>\n",
       "<polygon fill=\"none\" stroke=\"black\" points=\"0,-165.5 0,-201.5 246,-201.5 246,-165.5 0,-165.5\"/>\n",
       "<text text-anchor=\"middle\" x=\"18.5\" y=\"-179.2\" font-family=\"Times,serif\" font-size=\"14.00\">w1</text>\n",
       "<polyline fill=\"none\" stroke=\"black\" points=\"37,-166.25 37,-201.5\"/>\n",
       "<text text-anchor=\"middle\" x=\"90\" y=\"-179.2\" font-family=\"Times,serif\" font-size=\"14.00\">data &#45;3.0000</text>\n",
       "<polyline fill=\"none\" stroke=\"black\" points=\"143,-166.25 143,-201.5\"/>\n",
       "<text text-anchor=\"middle\" x=\"194.5\" y=\"-179.2\" font-family=\"Times,serif\" font-size=\"14.00\">grad 0.0000</text>\n",
       "</g>\n",
       "<!-- 136633537424368* -->\n",
       "<g id=\"node15\" class=\"node\">\n",
       "<title>136633537424368*</title>\n",
       "<ellipse fill=\"none\" stroke=\"black\" cx=\"309\" cy=\"-128.5\" rx=\"27\" ry=\"18\"/>\n",
       "<text text-anchor=\"middle\" x=\"309\" y=\"-123.83\" font-family=\"Times,serif\" font-size=\"14.00\">*</text>\n",
       "</g>\n",
       "<!-- 136633537328848&#45;&gt;136633537424368* -->\n",
       "<g id=\"edge8\" class=\"edge\">\n",
       "<title>136633537328848&#45;&gt;136633537424368*</title>\n",
       "<path fill=\"none\" stroke=\"black\" d=\"M214.85,-165.58C225.44,-162.85 236.02,-159.82 246,-156.5 256.4,-153.04 267.4,-148.41 277.21,-143.92\"/>\n",
       "<polygon fill=\"black\" stroke=\"black\" points=\"278.37,-146.77 285.92,-139.33 275.38,-140.44 278.37,-146.77\"/>\n",
       "</g>\n",
       "<!-- 136633537329376 -->\n",
       "<g id=\"node6\" class=\"node\">\n",
       "<title>136633537329376</title>\n",
       "<polygon fill=\"none\" stroke=\"black\" points=\"2.25,-55.5 2.25,-91.5 243.75,-91.5 243.75,-55.5 2.25,-55.5\"/>\n",
       "<text text-anchor=\"middle\" x=\"20.75\" y=\"-69.2\" font-family=\"Times,serif\" font-size=\"14.00\">w2</text>\n",
       "<polyline fill=\"none\" stroke=\"black\" points=\"39.25,-56.25 39.25,-91.5\"/>\n",
       "<text text-anchor=\"middle\" x=\"90\" y=\"-69.2\" font-family=\"Times,serif\" font-size=\"14.00\">data 1.0000</text>\n",
       "<polyline fill=\"none\" stroke=\"black\" points=\"140.75,-56.25 140.75,-91.5\"/>\n",
       "<text text-anchor=\"middle\" x=\"192.25\" y=\"-69.2\" font-family=\"Times,serif\" font-size=\"14.00\">grad 0.0000</text>\n",
       "</g>\n",
       "<!-- 136633537329376&#45;&gt;136633537421344* -->\n",
       "<g id=\"edge6\" class=\"edge\">\n",
       "<title>136633537329376&#45;&gt;136633537421344*</title>\n",
       "<path fill=\"none\" stroke=\"black\" d=\"M243.65,-73.5C253.26,-73.5 262.42,-73.5 270.67,-73.5\"/>\n",
       "<polygon fill=\"black\" stroke=\"black\" points=\"270.67,-77 280.67,-73.5 270.67,-70 270.67,-77\"/>\n",
       "</g>\n",
       "<!-- 136633536639760 -->\n",
       "<g id=\"node7\" class=\"node\">\n",
       "<title>136633536639760</title>\n",
       "<polygon fill=\"none\" stroke=\"black\" points=\"4.12,-0.5 4.12,-36.5 241.88,-36.5 241.88,-0.5 4.12,-0.5\"/>\n",
       "<text text-anchor=\"middle\" x=\"20.75\" y=\"-14.2\" font-family=\"Times,serif\" font-size=\"14.00\">x2</text>\n",
       "<polyline fill=\"none\" stroke=\"black\" points=\"37.38,-1.25 37.38,-36.5\"/>\n",
       "<text text-anchor=\"middle\" x=\"88.12\" y=\"-14.2\" font-family=\"Times,serif\" font-size=\"14.00\">data 0.0000</text>\n",
       "<polyline fill=\"none\" stroke=\"black\" points=\"138.88,-1.25 138.88,-36.5\"/>\n",
       "<text text-anchor=\"middle\" x=\"190.38\" y=\"-14.2\" font-family=\"Times,serif\" font-size=\"14.00\">grad 0.0000</text>\n",
       "</g>\n",
       "<!-- 136633536639760&#45;&gt;136633537421344* -->\n",
       "<g id=\"edge9\" class=\"edge\">\n",
       "<title>136633536639760&#45;&gt;136633537421344*</title>\n",
       "<path fill=\"none\" stroke=\"black\" d=\"M211.19,-36.43C222.98,-39.46 234.85,-42.83 246,-46.5 256.15,-49.84 266.93,-54.23 276.6,-58.48\"/>\n",
       "<polygon fill=\"black\" stroke=\"black\" points=\"275.02,-62.06 285.58,-63 277.91,-55.69 275.02,-62.06\"/>\n",
       "</g>\n",
       "<!-- 136633537213920 -->\n",
       "<g id=\"node8\" class=\"node\">\n",
       "<title>136633537213920</title>\n",
       "<polygon fill=\"none\" stroke=\"black\" points=\"823.5,-137.5 823.5,-173.5 1053,-173.5 1053,-137.5 823.5,-137.5\"/>\n",
       "<text text-anchor=\"middle\" x=\"836\" y=\"-151.2\" font-family=\"Times,serif\" font-size=\"14.00\">b</text>\n",
       "<polyline fill=\"none\" stroke=\"black\" points=\"848.5,-138.25 848.5,-173.5\"/>\n",
       "<text text-anchor=\"middle\" x=\"899.25\" y=\"-151.2\" font-family=\"Times,serif\" font-size=\"14.00\">data 6.8814</text>\n",
       "<polyline fill=\"none\" stroke=\"black\" points=\"950,-138.25 950,-173.5\"/>\n",
       "<text text-anchor=\"middle\" x=\"1001.5\" y=\"-151.2\" font-family=\"Times,serif\" font-size=\"14.00\">grad 0.0000</text>\n",
       "</g>\n",
       "<!-- 136633537213920&#45;&gt;136633537422208+ -->\n",
       "<g id=\"edge12\" class=\"edge\">\n",
       "<title>136633537213920&#45;&gt;136633537422208+</title>\n",
       "<path fill=\"none\" stroke=\"black\" d=\"M1052.98,-141.17C1078.99,-137.89 1104.81,-134.64 1124.74,-132.13\"/>\n",
       "<polygon fill=\"black\" stroke=\"black\" points=\"1124.97,-135.5 1134.45,-130.78 1124.1,-128.56 1124.97,-135.5\"/>\n",
       "</g>\n",
       "<!-- 136633537425232 -->\n",
       "<g id=\"node9\" class=\"node\">\n",
       "<title>136633537425232</title>\n",
       "<polygon fill=\"none\" stroke=\"black\" points=\"1594.69,-109.5 1594.69,-145.5 1823.44,-145.5 1823.44,-109.5 1594.69,-109.5\"/>\n",
       "<text text-anchor=\"middle\" x=\"1606.82\" y=\"-123.2\" font-family=\"Times,serif\" font-size=\"14.00\">o</text>\n",
       "<polyline fill=\"none\" stroke=\"black\" points=\"1618.94,-110.25 1618.94,-145.5\"/>\n",
       "<text text-anchor=\"middle\" x=\"1669.69\" y=\"-123.2\" font-family=\"Times,serif\" font-size=\"14.00\">data 1.8284</text>\n",
       "<polyline fill=\"none\" stroke=\"black\" points=\"1720.44,-110.25 1720.44,-145.5\"/>\n",
       "<text text-anchor=\"middle\" x=\"1771.94\" y=\"-123.2\" font-family=\"Times,serif\" font-size=\"14.00\">grad 0.0000</text>\n",
       "</g>\n",
       "<!-- 136633537425232tanh -->\n",
       "<g id=\"node10\" class=\"node\">\n",
       "<title>136633537425232tanh</title>\n",
       "<ellipse fill=\"none\" stroke=\"black\" cx=\"1524.85\" cy=\"-127.5\" rx=\"33.85\" ry=\"18\"/>\n",
       "<text text-anchor=\"middle\" x=\"1524.85\" y=\"-122.83\" font-family=\"Times,serif\" font-size=\"14.00\">tanh</text>\n",
       "</g>\n",
       "<!-- 136633537425232tanh&#45;&gt;136633537425232 -->\n",
       "<g id=\"edge3\" class=\"edge\">\n",
       "<title>136633537425232tanh&#45;&gt;136633537425232</title>\n",
       "<path fill=\"none\" stroke=\"black\" d=\"M1558.85,-127.5C1566.44,-127.5 1574.95,-127.5 1583.97,-127.5\"/>\n",
       "<polygon fill=\"black\" stroke=\"black\" points=\"1583.76,-131 1593.76,-127.5 1583.76,-124 1583.76,-131\"/>\n",
       "</g>\n",
       "<!-- 136633537422208 -->\n",
       "<g id=\"node11\" class=\"node\">\n",
       "<title>136633537422208</title>\n",
       "<polygon fill=\"none\" stroke=\"black\" points=\"1225.5,-109.5 1225.5,-145.5 1455,-145.5 1455,-109.5 1225.5,-109.5\"/>\n",
       "<text text-anchor=\"middle\" x=\"1238\" y=\"-123.2\" font-family=\"Times,serif\" font-size=\"14.00\">n</text>\n",
       "<polyline fill=\"none\" stroke=\"black\" points=\"1250.5,-110.25 1250.5,-145.5\"/>\n",
       "<text text-anchor=\"middle\" x=\"1301.25\" y=\"-123.2\" font-family=\"Times,serif\" font-size=\"14.00\">data 0.8814</text>\n",
       "<polyline fill=\"none\" stroke=\"black\" points=\"1352,-110.25 1352,-145.5\"/>\n",
       "<text text-anchor=\"middle\" x=\"1403.5\" y=\"-123.2\" font-family=\"Times,serif\" font-size=\"14.00\">grad 0.0000</text>\n",
       "</g>\n",
       "<!-- 136633537422208&#45;&gt;136633537425232tanh -->\n",
       "<g id=\"edge7\" class=\"edge\">\n",
       "<title>136633537422208&#45;&gt;136633537425232tanh</title>\n",
       "<path fill=\"none\" stroke=\"black\" d=\"M1454.81,-127.5C1463.49,-127.5 1471.88,-127.5 1479.64,-127.5\"/>\n",
       "<polygon fill=\"black\" stroke=\"black\" points=\"1479.52,-131 1489.52,-127.5 1479.52,-124 1479.52,-131\"/>\n",
       "</g>\n",
       "<!-- 136633537422208+&#45;&gt;136633537422208 -->\n",
       "<g id=\"edge4\" class=\"edge\">\n",
       "<title>136633537422208+&#45;&gt;136633537422208</title>\n",
       "<path fill=\"none\" stroke=\"black\" d=\"M1189.81,-127.5C1197.11,-127.5 1205.54,-127.5 1214.61,-127.5\"/>\n",
       "<polygon fill=\"black\" stroke=\"black\" points=\"1214.52,-131 1224.52,-127.5 1214.52,-124 1214.52,-131\"/>\n",
       "</g>\n",
       "<!-- 136633537212384 -->\n",
       "<g id=\"node13\" class=\"node\">\n",
       "<title>136633537212384</title>\n",
       "<polygon fill=\"none\" stroke=\"black\" points=\"4.12,-110.5 4.12,-146.5 241.88,-146.5 241.88,-110.5 4.12,-110.5\"/>\n",
       "<text text-anchor=\"middle\" x=\"20.75\" y=\"-124.2\" font-family=\"Times,serif\" font-size=\"14.00\">x1</text>\n",
       "<polyline fill=\"none\" stroke=\"black\" points=\"37.38,-111.25 37.38,-146.5\"/>\n",
       "<text text-anchor=\"middle\" x=\"88.12\" y=\"-124.2\" font-family=\"Times,serif\" font-size=\"14.00\">data 2.0000</text>\n",
       "<polyline fill=\"none\" stroke=\"black\" points=\"138.88,-111.25 138.88,-146.5\"/>\n",
       "<text text-anchor=\"middle\" x=\"190.38\" y=\"-124.2\" font-family=\"Times,serif\" font-size=\"14.00\">grad 0.0000</text>\n",
       "</g>\n",
       "<!-- 136633537212384&#45;&gt;136633537424368* -->\n",
       "<g id=\"edge11\" class=\"edge\">\n",
       "<title>136633537212384&#45;&gt;136633537424368*</title>\n",
       "<path fill=\"none\" stroke=\"black\" d=\"M241.83,-128.5C252.18,-128.5 262.06,-128.5 270.87,-128.5\"/>\n",
       "<polygon fill=\"black\" stroke=\"black\" points=\"270.8,-132 280.8,-128.5 270.8,-125 270.8,-132\"/>\n",
       "</g>\n",
       "<!-- 136633537424368 -->\n",
       "<g id=\"node14\" class=\"node\">\n",
       "<title>136633537424368</title>\n",
       "<polygon fill=\"none\" stroke=\"black\" points=\"372,-110.5 372,-146.5 651,-146.5 651,-110.5 372,-110.5\"/>\n",
       "<text text-anchor=\"middle\" x=\"407\" y=\"-124.2\" font-family=\"Times,serif\" font-size=\"14.00\">x1 * w1</text>\n",
       "<polyline fill=\"none\" stroke=\"black\" points=\"442,-111.25 442,-146.5\"/>\n",
       "<text text-anchor=\"middle\" x=\"495\" y=\"-124.2\" font-family=\"Times,serif\" font-size=\"14.00\">data &#45;6.0000</text>\n",
       "<polyline fill=\"none\" stroke=\"black\" points=\"548,-111.25 548,-146.5\"/>\n",
       "<text text-anchor=\"middle\" x=\"599.5\" y=\"-124.2\" font-family=\"Times,serif\" font-size=\"14.00\">grad 0.0000</text>\n",
       "</g>\n",
       "<!-- 136633537424368&#45;&gt;136633537421440+ -->\n",
       "<g id=\"edge13\" class=\"edge\">\n",
       "<title>136633537424368&#45;&gt;136633537421440+</title>\n",
       "<path fill=\"none\" stroke=\"black\" d=\"M641.18,-110.53C653.95,-108.75 666.05,-107.06 676.55,-105.59\"/>\n",
       "<polygon fill=\"black\" stroke=\"black\" points=\"676.85,-108.94 686.27,-104.09 675.88,-102.01 676.85,-108.94\"/>\n",
       "</g>\n",
       "<!-- 136633537424368*&#45;&gt;136633537424368 -->\n",
       "<g id=\"edge5\" class=\"edge\">\n",
       "<title>136633537424368*&#45;&gt;136633537424368</title>\n",
       "<path fill=\"none\" stroke=\"black\" d=\"M336.21,-128.5C343.54,-128.5 352.06,-128.5 361.31,-128.5\"/>\n",
       "<polygon fill=\"black\" stroke=\"black\" points=\"361.05,-132 371.05,-128.5 361.05,-125 361.05,-132\"/>\n",
       "</g>\n",
       "</g>\n",
       "</svg>\n"
      ],
      "text/plain": [
       "<graphviz.graphs.Digraph at 0x7c447974ff40>"
      ]
     },
     "execution_count": 16,
     "metadata": {},
     "output_type": "execute_result"
    }
   ],
   "source": [
    "draw_dot(o)"
   ]
  },
  {
   "cell_type": "code",
   "execution_count": 17,
   "id": "d2f3a0ea",
   "metadata": {
    "execution": {
     "iopub.execute_input": "2023-11-30T10:52:49.714392Z",
     "iopub.status.busy": "2023-11-30T10:52:49.713996Z",
     "iopub.status.idle": "2023-11-30T10:52:49.719580Z",
     "shell.execute_reply": "2023-11-30T10:52:49.718737Z"
    },
    "papermill": {
     "duration": 0.015005,
     "end_time": "2023-11-30T10:52:49.721074",
     "exception": false,
     "start_time": "2023-11-30T10:52:49.706069",
     "status": "completed"
    },
    "tags": []
   },
   "outputs": [
    {
     "data": {
      "text/plain": [
       "<function __main__.Value.tanh.<locals>._backwards()>"
      ]
     },
     "execution_count": 17,
     "metadata": {},
     "output_type": "execute_result"
    }
   ],
   "source": [
    "o._backwards"
   ]
  },
  {
   "cell_type": "code",
   "execution_count": null,
   "id": "d8c43402",
   "metadata": {
    "execution": {
     "iopub.execute_input": "2023-11-30T10:44:24.400021Z",
     "iopub.status.busy": "2023-11-30T10:44:24.399652Z",
     "iopub.status.idle": "2023-11-30T10:44:24.410874Z",
     "shell.execute_reply": "2023-11-30T10:44:24.409453Z",
     "shell.execute_reply.started": "2023-11-30T10:44:24.399992Z"
    },
    "papermill": {
     "duration": 0.00679,
     "end_time": "2023-11-30T10:52:49.734553",
     "exception": false,
     "start_time": "2023-11-30T10:52:49.727763",
     "status": "completed"
    },
    "tags": []
   },
   "outputs": [],
   "source": []
  },
  {
   "cell_type": "code",
   "execution_count": null,
   "id": "c661ce3e",
   "metadata": {
    "execution": {
     "iopub.execute_input": "2023-11-30T10:44:24.413229Z",
     "iopub.status.busy": "2023-11-30T10:44:24.412803Z",
     "iopub.status.idle": "2023-11-30T10:44:24.425117Z",
     "shell.execute_reply": "2023-11-30T10:44:24.423754Z",
     "shell.execute_reply.started": "2023-11-30T10:44:24.413198Z"
    },
    "papermill": {
     "duration": 0.007801,
     "end_time": "2023-11-30T10:52:49.752376",
     "exception": false,
     "start_time": "2023-11-30T10:52:49.744575",
     "status": "completed"
    },
    "tags": []
   },
   "outputs": [],
   "source": []
  },
  {
   "cell_type": "code",
   "execution_count": null,
   "id": "309f0ab4",
   "metadata": {
    "execution": {
     "iopub.execute_input": "2023-11-30T10:44:24.427422Z",
     "iopub.status.busy": "2023-11-30T10:44:24.427074Z",
     "iopub.status.idle": "2023-11-30T10:44:24.438655Z",
     "shell.execute_reply": "2023-11-30T10:44:24.437611Z",
     "shell.execute_reply.started": "2023-11-30T10:44:24.427393Z"
    },
    "papermill": {
     "duration": 0.006781,
     "end_time": "2023-11-30T10:52:49.766384",
     "exception": false,
     "start_time": "2023-11-30T10:52:49.759603",
     "status": "completed"
    },
    "tags": []
   },
   "outputs": [],
   "source": []
  },
  {
   "cell_type": "code",
   "execution_count": null,
   "id": "b1b445f7",
   "metadata": {
    "execution": {
     "iopub.execute_input": "2023-11-30T10:44:24.440382Z",
     "iopub.status.busy": "2023-11-30T10:44:24.439898Z",
     "iopub.status.idle": "2023-11-30T10:44:24.453708Z",
     "shell.execute_reply": "2023-11-30T10:44:24.452515Z",
     "shell.execute_reply.started": "2023-11-30T10:44:24.440323Z"
    },
    "papermill": {
     "duration": 0.006658,
     "end_time": "2023-11-30T10:52:49.780225",
     "exception": false,
     "start_time": "2023-11-30T10:52:49.773567",
     "status": "completed"
    },
    "tags": []
   },
   "outputs": [],
   "source": []
  },
  {
   "cell_type": "code",
   "execution_count": null,
   "id": "9b77ba25",
   "metadata": {
    "execution": {
     "iopub.execute_input": "2023-11-30T10:44:24.455315Z",
     "iopub.status.busy": "2023-11-30T10:44:24.454898Z",
     "iopub.status.idle": "2023-11-30T10:44:24.466786Z",
     "shell.execute_reply": "2023-11-30T10:44:24.465585Z",
     "shell.execute_reply.started": "2023-11-30T10:44:24.455282Z"
    },
    "papermill": {
     "duration": 0.006574,
     "end_time": "2023-11-30T10:52:49.793714",
     "exception": false,
     "start_time": "2023-11-30T10:52:49.787140",
     "status": "completed"
    },
    "tags": []
   },
   "outputs": [],
   "source": []
  },
  {
   "cell_type": "code",
   "execution_count": null,
   "id": "76ed042c",
   "metadata": {
    "papermill": {
     "duration": 0.006909,
     "end_time": "2023-11-30T10:52:49.808154",
     "exception": false,
     "start_time": "2023-11-30T10:52:49.801245",
     "status": "completed"
    },
    "tags": []
   },
   "outputs": [],
   "source": []
  }
 ],
 "metadata": {
  "kaggle": {
   "accelerator": "none",
   "dataSources": [],
   "dockerImageVersionId": 30587,
   "isGpuEnabled": false,
   "isInternetEnabled": false,
   "language": "python",
   "sourceType": "notebook"
  },
  "kernelspec": {
   "display_name": "Python 3",
   "language": "python",
   "name": "python3"
  },
  "language_info": {
   "codemirror_mode": {
    "name": "ipython",
    "version": 3
   },
   "file_extension": ".py",
   "mimetype": "text/x-python",
   "name": "python",
   "nbconvert_exporter": "python",
   "pygments_lexer": "ipython3",
   "version": "3.10.12"
  },
  "papermill": {
   "default_parameters": {},
   "duration": 4.062705,
   "end_time": "2023-11-30T10:52:50.134226",
   "environment_variables": {},
   "exception": null,
   "input_path": "__notebook__.ipynb",
   "output_path": "__notebook__.ipynb",
   "parameters": {},
   "start_time": "2023-11-30T10:52:46.071521",
   "version": "2.4.0"
  }
 },
 "nbformat": 4,
 "nbformat_minor": 5
}
