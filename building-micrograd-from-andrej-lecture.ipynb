{
 "cells": [
  {
   "cell_type": "code",
   "execution_count": 1,
   "id": "670d1a13",
   "metadata": {
    "execution": {
     "iopub.execute_input": "2023-11-29T11:11:21.924153Z",
     "iopub.status.busy": "2023-11-29T11:11:21.923454Z",
     "iopub.status.idle": "2023-11-29T11:11:21.936221Z",
     "shell.execute_reply": "2023-11-29T11:11:21.935160Z"
    },
    "papermill": {
     "duration": 0.023912,
     "end_time": "2023-11-29T11:11:21.939380",
     "exception": false,
     "start_time": "2023-11-29T11:11:21.915468",
     "status": "completed"
    },
    "tags": []
   },
   "outputs": [],
   "source": [
    "import math\n",
    "import numpy as np\n",
    "import matplotlib.pyplot as plt\n",
    "%matplotlib inline"
   ]
  },
  {
   "cell_type": "code",
   "execution_count": 2,
   "id": "d1ea5573",
   "metadata": {
    "execution": {
     "iopub.execute_input": "2023-11-29T11:11:21.956551Z",
     "iopub.status.busy": "2023-11-29T11:11:21.956109Z",
     "iopub.status.idle": "2023-11-29T11:11:21.961903Z",
     "shell.execute_reply": "2023-11-29T11:11:21.960337Z"
    },
    "papermill": {
     "duration": 0.016729,
     "end_time": "2023-11-29T11:11:21.965204",
     "exception": false,
     "start_time": "2023-11-29T11:11:21.948475",
     "status": "completed"
    },
    "tags": []
   },
   "outputs": [],
   "source": [
    "def f(x):\n",
    "    return 3*x**2 - 4 * x + 5"
   ]
  },
  {
   "cell_type": "code",
   "execution_count": 3,
   "id": "a04945cd",
   "metadata": {
    "execution": {
     "iopub.execute_input": "2023-11-29T11:11:21.981046Z",
     "iopub.status.busy": "2023-11-29T11:11:21.980599Z",
     "iopub.status.idle": "2023-11-29T11:11:21.988782Z",
     "shell.execute_reply": "2023-11-29T11:11:21.987392Z"
    },
    "papermill": {
     "duration": 0.019672,
     "end_time": "2023-11-29T11:11:21.991469",
     "exception": false,
     "start_time": "2023-11-29T11:11:21.971797",
     "status": "completed"
    },
    "tags": []
   },
   "outputs": [
    {
     "data": {
      "text/plain": [
       "20.0"
      ]
     },
     "execution_count": 3,
     "metadata": {},
     "output_type": "execute_result"
    }
   ],
   "source": [
    "f(3.0)"
   ]
  },
  {
   "cell_type": "code",
   "execution_count": 4,
   "id": "23a7de42",
   "metadata": {
    "execution": {
     "iopub.execute_input": "2023-11-29T11:11:22.007191Z",
     "iopub.status.busy": "2023-11-29T11:11:22.006469Z",
     "iopub.status.idle": "2023-11-29T11:11:22.303592Z",
     "shell.execute_reply": "2023-11-29T11:11:22.302159Z"
    },
    "papermill": {
     "duration": 0.308383,
     "end_time": "2023-11-29T11:11:22.306318",
     "exception": false,
     "start_time": "2023-11-29T11:11:21.997935",
     "status": "completed"
    },
    "tags": []
   },
   "outputs": [
    {
     "data": {
      "text/plain": [
       "[<matplotlib.lines.Line2D at 0x79678b5c4640>]"
      ]
     },
     "execution_count": 4,
     "metadata": {},
     "output_type": "execute_result"
    },
    {
     "data": {
      "image/png": "[encoded data removed]",
      "text/plain": [
       "<Figure size 640x480 with 1 Axes>"
      ]
     },
     "metadata": {},
     "output_type": "display_data"
    }
   ],
   "source": [
    "xs = np.arange(-5, 5, 0.25)\n",
    "ys = f(xs)\n",
    "plt.plot(xs, ys)"
   ]
  },
  {
   "cell_type": "code",
   "execution_count": 5,
   "id": "a1ebd038",
   "metadata": {
    "execution": {
     "iopub.execute_input": "2023-11-29T11:11:22.321691Z",
     "iopub.status.busy": "2023-11-29T11:11:22.321251Z",
     "iopub.status.idle": "2023-11-29T11:11:22.329764Z",
     "shell.execute_reply": "2023-11-29T11:11:22.328349Z"
    },
    "papermill": {
     "duration": 0.019573,
     "end_time": "2023-11-29T11:11:22.332635",
     "exception": false,
     "start_time": "2023-11-29T11:11:22.313062",
     "status": "completed"
    },
    "tags": []
   },
   "outputs": [
    {
     "data": {
      "text/plain": [
       "14.00003000000538"
      ]
     },
     "execution_count": 5,
     "metadata": {},
     "output_type": "execute_result"
    }
   ],
   "source": [
    "h = 0.00001\n",
    "x = 3.0\n",
    "(f(x + h) -f(x))/ h "
   ]
  },
  {
   "cell_type": "code",
   "execution_count": 6,
   "id": "a4a1d45d",
   "metadata": {
    "execution": {
     "iopub.execute_input": "2023-11-29T11:11:22.348727Z",
     "iopub.status.busy": "2023-11-29T11:11:22.348305Z",
     "iopub.status.idle": "2023-11-29T11:11:22.356661Z",
     "shell.execute_reply": "2023-11-29T11:11:22.355104Z"
    },
    "papermill": {
     "duration": 0.020221,
     "end_time": "2023-11-29T11:11:22.359999",
     "exception": false,
     "start_time": "2023-11-29T11:11:22.339778",
     "status": "completed"
    },
    "tags": []
   },
   "outputs": [
    {
     "name": "stdout",
     "output_type": "stream",
     "text": [
      "d1 4.0\n",
      "d2 4.000000999999999\n",
      "slope 0.9999999992515995\n"
     ]
    }
   ],
   "source": [
    "h = 0.000001\n",
    "\n",
    "#inputs\n",
    "a = 2.0\n",
    "b = -3.0\n",
    "c = 10.0\n",
    "d1 = a * b + c\n",
    "c += h\n",
    "d2 = a * b + c\n",
    "\n",
    "print('d1', d1)\n",
    "print('d2', d2)\n",
    "print('slope', (d2-d1)/h)\n"
   ]
  },
  {
   "cell_type": "code",
   "execution_count": 7,
   "id": "6bb1832b",
   "metadata": {
    "execution": {
     "iopub.execute_input": "2023-11-29T11:11:22.376720Z",
     "iopub.status.busy": "2023-11-29T11:11:22.376197Z",
     "iopub.status.idle": "2023-11-29T11:11:22.388097Z",
     "shell.execute_reply": "2023-11-29T11:11:22.386888Z"
    },
    "papermill": {
     "duration": 0.023809,
     "end_time": "2023-11-29T11:11:22.390725",
     "exception": false,
     "start_time": "2023-11-29T11:11:22.366916",
     "status": "completed"
    },
    "tags": []
   },
   "outputs": [],
   "source": [
    "class Value:\n",
    "    def __init__(self, data, _children = (), _op ='', label =''):\n",
    "        self.data=data\n",
    "        self.grad = 0\n",
    "        self._prev = set(_children)\n",
    "        self._op = _op\n",
    "        self.label = label\n",
    "        \n",
    "    def __repr__(self):\n",
    "        return f\"Value(data={self.data})\"\n",
    "    \n",
    "    def __add__(self, other):\n",
    "        out = Value(self.data + other.data, (self, other), '+')\n",
    "        return out\n",
    "    \n",
    "    def __mul__(self, other):\n",
    "        out = Value(self.data * other.data, (self, other), '*')\n",
    "        return out\n",
    "    \n",
    "a = Value(2.0, label = 'a')\n",
    "b = Value(-3.0, label = 'b')\n",
    "c = Value(10.0,label = 'c')\n",
    "e = a*b; e.label = 'e'\n",
    "d = e + c; d.label = 'd'\n",
    "f = Value(-2.0, label= 'f')\n",
    "L = d * f; L.label = 'L'"
   ]
  },
  {
   "cell_type": "code",
   "execution_count": 8,
   "id": "24d310af",
   "metadata": {
    "execution": {
     "iopub.execute_input": "2023-11-29T11:11:22.406606Z",
     "iopub.status.busy": "2023-11-29T11:11:22.406111Z",
     "iopub.status.idle": "2023-11-29T11:11:22.413538Z",
     "shell.execute_reply": "2023-11-29T11:11:22.412539Z"
    },
    "papermill": {
     "duration": 0.017837,
     "end_time": "2023-11-29T11:11:22.415779",
     "exception": false,
     "start_time": "2023-11-29T11:11:22.397942",
     "status": "completed"
    },
    "tags": []
   },
   "outputs": [
    {
     "data": {
      "text/plain": [
       "'+'"
      ]
     },
     "execution_count": 8,
     "metadata": {},
     "output_type": "execute_result"
    }
   ],
   "source": [
    "d._prev\n",
    "d._op"
   ]
  },
  {
   "cell_type": "code",
   "execution_count": 9,
   "id": "5bd4b3d4",
   "metadata": {
    "execution": {
     "iopub.execute_input": "2023-11-29T11:11:22.431955Z",
     "iopub.status.busy": "2023-11-29T11:11:22.431564Z",
     "iopub.status.idle": "2023-11-29T11:11:22.437268Z",
     "shell.execute_reply": "2023-11-29T11:11:22.435708Z"
    },
    "papermill": {
     "duration": 0.017266,
     "end_time": "2023-11-29T11:11:22.439910",
     "exception": false,
     "start_time": "2023-11-29T11:11:22.422644",
     "status": "completed"
    },
    "tags": []
   },
   "outputs": [],
   "source": [
    "L.grad = 1.0"
   ]
  },
  {
   "cell_type": "code",
   "execution_count": 10,
   "id": "14b8a43d",
   "metadata": {
    "execution": {
     "iopub.execute_input": "2023-11-29T11:11:22.455895Z",
     "iopub.status.busy": "2023-11-29T11:11:22.455416Z",
     "iopub.status.idle": "2023-11-29T11:11:22.509211Z",
     "shell.execute_reply": "2023-11-29T11:11:22.508018Z"
    },
    "papermill": {
     "duration": 0.065221,
     "end_time": "2023-11-29T11:11:22.512039",
     "exception": false,
     "start_time": "2023-11-29T11:11:22.446818",
     "status": "completed"
    },
    "tags": []
   },
   "outputs": [],
   "source": [
    "from graphviz import Digraph\n",
    "\n",
    "def trace(root):\n",
    "  # builds a set of all nodes and edges in a graph\n",
    "  nodes, edges = set(), set()\n",
    "  def build(v):\n",
    "    if v not in nodes:\n",
    "      nodes.add(v)\n",
    "      for child in v._prev:\n",
    "        edges.add((child, v))\n",
    "        build(child)\n",
    "  build(root)\n",
    "  return nodes, edges\n",
    "\n",
    "def draw_dot(root):\n",
    "  dot = Digraph(format='svg', graph_attr={'rankdir': 'LR'}) # LR = left to right\n",
    "  \n",
    "  nodes, edges = trace(root)\n",
    "  for n in nodes:\n",
    "    uid = str(id(n))\n",
    "    # for any value in the graph, create a rectangular ('record') node for it\n",
    "    dot.node(name = uid, label = \"{ %s | data %.4f | grad %.4f }\" % (n.label, n.data, n.grad), shape='record')\n",
    "    if n._op:\n",
    "      # if this value is a result of some operation, create an op node for it\n",
    "      dot.node(name = uid + n._op, label = n._op)\n",
    "      # and connect this node to it\n",
    "      dot.edge(uid + n._op, uid)\n",
    "\n",
    "  for n1, n2 in edges:\n",
    "    # connect n1 to the op node of n2\n",
    "    dot.edge(str(id(n1)), str(id(n2)) + n2._op)\n",
    "\n",
    "  return dot"
   ]
  },
  {
   "cell_type": "code",
   "execution_count": 11,
   "id": "e7f7f557",
   "metadata": {
    "execution": {
     "iopub.execute_input": "2023-11-29T11:11:22.527064Z",
     "iopub.status.busy": "2023-11-29T11:11:22.526633Z",
     "iopub.status.idle": "2023-11-29T11:11:22.537913Z",
     "shell.execute_reply": "2023-11-29T11:11:22.536540Z"
    },
    "papermill": {
     "duration": 0.022752,
     "end_time": "2023-11-29T11:11:22.541580",
     "exception": false,
     "start_time": "2023-11-29T11:11:22.518828",
     "status": "completed"
    },
    "tags": []
   },
   "outputs": [
    {
     "name": "stdout",
     "output_type": "stream",
     "text": [
      "0.9999999999976694\n"
     ]
    }
   ],
   "source": [
    "def lol():\n",
    "    \n",
    "    h = 0.0001\n",
    "    \n",
    "    a = Value(2.0, label = 'a')\n",
    "    b = Value(-3.0, label = 'b')\n",
    "    c = Value(10.0,label = 'c')\n",
    "    e = a*b; e.label = 'e'\n",
    "    d = e + c; d.label = 'd'\n",
    "    f = Value(-2.0, label= 'f')\n",
    "    L = d * f; L.label = 'L'\n",
    "    L1 = L.data\n",
    "\n",
    "    \n",
    "    a = Value(2.0, label = 'a')\n",
    "    b = Value(-3.0, label = 'b')\n",
    "    c = Value(10.0,label = 'c')\n",
    "    e = a*b; e.label = 'e'\n",
    "    d = e + c; d.label = 'd'\n",
    "    f = Value(-2.0, label= 'f')\n",
    "    L = d * f; L.label = 'L'\n",
    "    L2 = L.data + h\n",
    "    \n",
    "    print((L2- L1)/ h)\n",
    "    \n",
    "lol()"
   ]
  },
  {
   "cell_type": "code",
   "execution_count": 12,
   "id": "78196d59",
   "metadata": {
    "execution": {
     "iopub.execute_input": "2023-11-29T11:11:22.559404Z",
     "iopub.status.busy": "2023-11-29T11:11:22.558967Z",
     "iopub.status.idle": "2023-11-29T11:11:22.564867Z",
     "shell.execute_reply": "2023-11-29T11:11:22.563447Z"
    },
    "papermill": {
     "duration": 0.019423,
     "end_time": "2023-11-29T11:11:22.568521",
     "exception": false,
     "start_time": "2023-11-29T11:11:22.549098",
     "status": "completed"
    },
    "tags": []
   },
   "outputs": [],
   "source": [
    "f.grad = 4.0\n",
    "d.grad = -2"
   ]
  },
  {
   "cell_type": "code",
   "execution_count": 13,
   "id": "0895985d",
   "metadata": {
    "execution": {
     "iopub.execute_input": "2023-11-29T11:11:22.586936Z",
     "iopub.status.busy": "2023-11-29T11:11:22.586476Z",
     "iopub.status.idle": "2023-11-29T11:11:22.806111Z",
     "shell.execute_reply": "2023-11-29T11:11:22.804754Z"
    },
    "papermill": {
     "duration": 0.232828,
     "end_time": "2023-11-29T11:11:22.809202",
     "exception": false,
     "start_time": "2023-11-29T11:11:22.576374",
     "status": "completed"
    },
    "tags": []
   },
   "outputs": [
    {
     "data": {
      "image/svg+xml": [
       "<?xml version=\"1.0\" encoding=\"UTF-8\" standalone=\"no\"?>\n",
       "<!DOCTYPE svg PUBLIC \"-//W3C//DTD SVG 1.1//EN\"\n",
       " \"http://www.w3.org/Graphics/SVG/1.1/DTD/svg11.dtd\">\n",
       "<!-- Generated by graphviz version 8.1.0 (20230707.2238)\n",
       " -->\n",
       "<!-- Pages: 1 -->\n",
       "<svg width=\"1325pt\" height=\"154pt\"\n",
       " viewBox=\"0.00 0.00 1325.00 154.00\" xmlns=\"http://www.w3.org/2000/svg\" xmlns:xlink=\"http://www.w3.org/1999/xlink\">\n",
       "<g id=\"graph0\" class=\"graph\" transform=\"scale(1 1) rotate(0) translate(4 150)\">\n",
       "<polygon fill=\"white\" stroke=\"none\" points=\"-4,4 -4,-150 1321,-150 1321,4 -4,4\"/>\n",
       "<!-- 133485583213104 -->\n",
       "<g id=\"node1\" class=\"node\">\n",
       "<title>133485583213104</title>\n",
       "<polygon fill=\"none\" stroke=\"black\" points=\"724.88,-109.5 724.88,-145.5 955.12,-145.5 955.12,-109.5 724.88,-109.5\"/>\n",
       "<text text-anchor=\"middle\" x=\"735.5\" y=\"-123.2\" font-family=\"Times,serif\" font-size=\"14.00\">f</text>\n",
       "<polyline fill=\"none\" stroke=\"black\" points=\"746.12,-110.25 746.12,-145.5\"/>\n",
       "<text text-anchor=\"middle\" x=\"799.12\" y=\"-123.2\" font-family=\"Times,serif\" font-size=\"14.00\">data &#45;2.0000</text>\n",
       "<polyline fill=\"none\" stroke=\"black\" points=\"852.12,-110.25 852.12,-145.5\"/>\n",
       "<text text-anchor=\"middle\" x=\"903.62\" y=\"-123.2\" font-family=\"Times,serif\" font-size=\"14.00\">grad 4.0000</text>\n",
       "</g>\n",
       "<!-- 133485583211904* -->\n",
       "<g id=\"node7\" class=\"node\">\n",
       "<title>133485583211904*</title>\n",
       "<ellipse fill=\"none\" stroke=\"black\" cx=\"1020\" cy=\"-99.5\" rx=\"27\" ry=\"18\"/>\n",
       "<text text-anchor=\"middle\" x=\"1020\" y=\"-94.83\" font-family=\"Times,serif\" font-size=\"14.00\">*</text>\n",
       "</g>\n",
       "<!-- 133485583213104&#45;&gt;133485583211904* -->\n",
       "<g id=\"edge8\" class=\"edge\">\n",
       "<title>133485583213104&#45;&gt;133485583211904*</title>\n",
       "<path fill=\"none\" stroke=\"black\" d=\"M954.99,-109.57C964.8,-108.03 974.16,-106.55 982.55,-105.23\"/>\n",
       "<polygon fill=\"black\" stroke=\"black\" points=\"983.01,-108.55 992.35,-103.54 981.93,-101.63 983.01,-108.55\"/>\n",
       "</g>\n",
       "<!-- 133485583211616 -->\n",
       "<g id=\"node2\" class=\"node\">\n",
       "<title>133485583211616</title>\n",
       "<polygon fill=\"none\" stroke=\"black\" points=\"2.62,-55.5 2.62,-91.5 231.38,-91.5 231.38,-55.5 2.62,-55.5\"/>\n",
       "<text text-anchor=\"middle\" x=\"14.75\" y=\"-69.2\" font-family=\"Times,serif\" font-size=\"14.00\">a</text>\n",
       "<polyline fill=\"none\" stroke=\"black\" points=\"26.88,-56.25 26.88,-91.5\"/>\n",
       "<text text-anchor=\"middle\" x=\"77.62\" y=\"-69.2\" font-family=\"Times,serif\" font-size=\"14.00\">data 2.0000</text>\n",
       "<polyline fill=\"none\" stroke=\"black\" points=\"128.38,-56.25 128.38,-91.5\"/>\n",
       "<text text-anchor=\"middle\" x=\"179.88\" y=\"-69.2\" font-family=\"Times,serif\" font-size=\"14.00\">grad 0.0000</text>\n",
       "</g>\n",
       "<!-- 133485583212000* -->\n",
       "<g id=\"node10\" class=\"node\">\n",
       "<title>133485583212000*</title>\n",
       "<ellipse fill=\"none\" stroke=\"black\" cx=\"297\" cy=\"-45.5\" rx=\"27\" ry=\"18\"/>\n",
       "<text text-anchor=\"middle\" x=\"297\" y=\"-40.83\" font-family=\"Times,serif\" font-size=\"14.00\">*</text>\n",
       "</g>\n",
       "<!-- 133485583211616&#45;&gt;133485583212000* -->\n",
       "<g id=\"edge6\" class=\"edge\">\n",
       "<title>133485583211616&#45;&gt;133485583212000*</title>\n",
       "<path fill=\"none\" stroke=\"black\" d=\"M231.23,-55.69C241.34,-54.1 251,-52.58 259.62,-51.22\"/>\n",
       "<polygon fill=\"black\" stroke=\"black\" points=\"259.99,-54.55 269.32,-49.54 258.9,-47.64 259.99,-54.55\"/>\n",
       "</g>\n",
       "<!-- 133485583211136 -->\n",
       "<g id=\"node3\" class=\"node\">\n",
       "<title>133485583211136</title>\n",
       "<polygon fill=\"none\" stroke=\"black\" points=\"0,-0.5 0,-36.5 234,-36.5 234,-0.5 0,-0.5\"/>\n",
       "<text text-anchor=\"middle\" x=\"12.5\" y=\"-14.2\" font-family=\"Times,serif\" font-size=\"14.00\">b</text>\n",
       "<polyline fill=\"none\" stroke=\"black\" points=\"25,-1.25 25,-36.5\"/>\n",
       "<text text-anchor=\"middle\" x=\"78\" y=\"-14.2\" font-family=\"Times,serif\" font-size=\"14.00\">data &#45;3.0000</text>\n",
       "<polyline fill=\"none\" stroke=\"black\" points=\"131,-1.25 131,-36.5\"/>\n",
       "<text text-anchor=\"middle\" x=\"182.5\" y=\"-14.2\" font-family=\"Times,serif\" font-size=\"14.00\">grad 0.0000</text>\n",
       "</g>\n",
       "<!-- 133485583211136&#45;&gt;133485583212000* -->\n",
       "<g id=\"edge9\" class=\"edge\">\n",
       "<title>133485583211136&#45;&gt;133485583212000*</title>\n",
       "<path fill=\"none\" stroke=\"black\" d=\"M233.74,-36.06C242.85,-37.44 251.54,-38.76 259.38,-39.95\"/>\n",
       "<polygon fill=\"black\" stroke=\"black\" points=\"258.81,-43.55 269.22,-41.59 259.86,-36.63 258.81,-43.55\"/>\n",
       "</g>\n",
       "<!-- 133485583211760 -->\n",
       "<g id=\"node4\" class=\"node\">\n",
       "<title>133485583211760</title>\n",
       "<polygon fill=\"none\" stroke=\"black\" points=\"723,-54.5 723,-90.5 957,-90.5 957,-54.5 723,-54.5\"/>\n",
       "<text text-anchor=\"middle\" x=\"735.5\" y=\"-68.2\" font-family=\"Times,serif\" font-size=\"14.00\">d</text>\n",
       "<polyline fill=\"none\" stroke=\"black\" points=\"748,-55.25 748,-90.5\"/>\n",
       "<text text-anchor=\"middle\" x=\"798.75\" y=\"-68.2\" font-family=\"Times,serif\" font-size=\"14.00\">data 4.0000</text>\n",
       "<polyline fill=\"none\" stroke=\"black\" points=\"849.5,-55.25 849.5,-90.5\"/>\n",
       "<text text-anchor=\"middle\" x=\"903.25\" y=\"-68.2\" font-family=\"Times,serif\" font-size=\"14.00\">grad &#45;2.0000</text>\n",
       "</g>\n",
       "<!-- 133485583211760&#45;&gt;133485583211904* -->\n",
       "<g id=\"edge4\" class=\"edge\">\n",
       "<title>133485583211760&#45;&gt;133485583211904*</title>\n",
       "<path fill=\"none\" stroke=\"black\" d=\"M956.74,-90.06C965.85,-91.44 974.54,-92.76 982.38,-93.95\"/>\n",
       "<polygon fill=\"black\" stroke=\"black\" points=\"981.81,-97.55 992.22,-95.59 982.86,-90.63 981.81,-97.55\"/>\n",
       "</g>\n",
       "<!-- 133485583211760+ -->\n",
       "<g id=\"node5\" class=\"node\">\n",
       "<title>133485583211760+</title>\n",
       "<ellipse fill=\"none\" stroke=\"black\" cx=\"660\" cy=\"-72.5\" rx=\"27\" ry=\"18\"/>\n",
       "<text text-anchor=\"middle\" x=\"660\" y=\"-67.83\" font-family=\"Times,serif\" font-size=\"14.00\">+</text>\n",
       "</g>\n",
       "<!-- 133485583211760+&#45;&gt;133485583211760 -->\n",
       "<g id=\"edge1\" class=\"edge\">\n",
       "<title>133485583211760+&#45;&gt;133485583211760</title>\n",
       "<path fill=\"none\" stroke=\"black\" d=\"M687.26,-72.5C694.56,-72.5 703.01,-72.5 712.1,-72.5\"/>\n",
       "<polygon fill=\"black\" stroke=\"black\" points=\"712.04,-76 722.04,-72.5 712.04,-69 712.04,-76\"/>\n",
       "</g>\n",
       "<!-- 133485583211904 -->\n",
       "<g id=\"node6\" class=\"node\">\n",
       "<title>133485583211904</title>\n",
       "<polygon fill=\"none\" stroke=\"black\" points=\"1083,-81.5 1083,-117.5 1317,-117.5 1317,-81.5 1083,-81.5\"/>\n",
       "<text text-anchor=\"middle\" x=\"1095.5\" y=\"-95.2\" font-family=\"Times,serif\" font-size=\"14.00\">L</text>\n",
       "<polyline fill=\"none\" stroke=\"black\" points=\"1108,-82.25 1108,-117.5\"/>\n",
       "<text text-anchor=\"middle\" x=\"1161\" y=\"-95.2\" font-family=\"Times,serif\" font-size=\"14.00\">data &#45;8.0000</text>\n",
       "<polyline fill=\"none\" stroke=\"black\" points=\"1214,-82.25 1214,-117.5\"/>\n",
       "<text text-anchor=\"middle\" x=\"1265.5\" y=\"-95.2\" font-family=\"Times,serif\" font-size=\"14.00\">grad 1.0000</text>\n",
       "</g>\n",
       "<!-- 133485583211904*&#45;&gt;133485583211904 -->\n",
       "<g id=\"edge2\" class=\"edge\">\n",
       "<title>133485583211904*&#45;&gt;133485583211904</title>\n",
       "<path fill=\"none\" stroke=\"black\" d=\"M1047.26,-99.5C1054.56,-99.5 1063.01,-99.5 1072.1,-99.5\"/>\n",
       "<polygon fill=\"black\" stroke=\"black\" points=\"1072.04,-103 1082.04,-99.5 1072.04,-96 1072.04,-103\"/>\n",
       "</g>\n",
       "<!-- 133485583213968 -->\n",
       "<g id=\"node8\" class=\"node\">\n",
       "<title>133485583213968</title>\n",
       "<polygon fill=\"none\" stroke=\"black\" points=\"360,-82.5 360,-118.5 597,-118.5 597,-82.5 360,-82.5\"/>\n",
       "<text text-anchor=\"middle\" x=\"371.75\" y=\"-96.2\" font-family=\"Times,serif\" font-size=\"14.00\">c</text>\n",
       "<polyline fill=\"none\" stroke=\"black\" points=\"383.5,-83.25 383.5,-118.5\"/>\n",
       "<text text-anchor=\"middle\" x=\"438.75\" y=\"-96.2\" font-family=\"Times,serif\" font-size=\"14.00\">data 10.0000</text>\n",
       "<polyline fill=\"none\" stroke=\"black\" points=\"494,-83.25 494,-118.5\"/>\n",
       "<text text-anchor=\"middle\" x=\"545.5\" y=\"-96.2\" font-family=\"Times,serif\" font-size=\"14.00\">grad 0.0000</text>\n",
       "</g>\n",
       "<!-- 133485583213968&#45;&gt;133485583211760+ -->\n",
       "<g id=\"edge5\" class=\"edge\">\n",
       "<title>133485583213968&#45;&gt;133485583211760+</title>\n",
       "<path fill=\"none\" stroke=\"black\" d=\"M594.7,-82.53C604.56,-80.99 613.97,-79.52 622.4,-78.21\"/>\n",
       "<polygon fill=\"black\" stroke=\"black\" points=\"622.9,-81.52 632.24,-76.52 621.82,-74.6 622.9,-81.52\"/>\n",
       "</g>\n",
       "<!-- 133485583212000 -->\n",
       "<g id=\"node9\" class=\"node\">\n",
       "<title>133485583212000</title>\n",
       "<polygon fill=\"none\" stroke=\"black\" points=\"361.88,-27.5 361.88,-63.5 595.12,-63.5 595.12,-27.5 361.88,-27.5\"/>\n",
       "<text text-anchor=\"middle\" x=\"374\" y=\"-41.2\" font-family=\"Times,serif\" font-size=\"14.00\">e</text>\n",
       "<polyline fill=\"none\" stroke=\"black\" points=\"386.12,-28.25 386.12,-63.5\"/>\n",
       "<text text-anchor=\"middle\" x=\"439.12\" y=\"-41.2\" font-family=\"Times,serif\" font-size=\"14.00\">data &#45;6.0000</text>\n",
       "<polyline fill=\"none\" stroke=\"black\" points=\"492.12,-28.25 492.12,-63.5\"/>\n",
       "<text text-anchor=\"middle\" x=\"543.62\" y=\"-41.2\" font-family=\"Times,serif\" font-size=\"14.00\">grad 0.0000</text>\n",
       "</g>\n",
       "<!-- 133485583212000&#45;&gt;133485583211760+ -->\n",
       "<g id=\"edge7\" class=\"edge\">\n",
       "<title>133485583212000&#45;&gt;133485583211760+</title>\n",
       "<path fill=\"none\" stroke=\"black\" d=\"M594.96,-62.87C604.78,-64.34 614.16,-65.76 622.56,-67.02\"/>\n",
       "<polygon fill=\"black\" stroke=\"black\" points=\"621.95,-70.62 632.36,-68.64 622.99,-63.69 621.95,-70.62\"/>\n",
       "</g>\n",
       "<!-- 133485583212000*&#45;&gt;133485583212000 -->\n",
       "<g id=\"edge3\" class=\"edge\">\n",
       "<title>133485583212000*&#45;&gt;133485583212000</title>\n",
       "<path fill=\"none\" stroke=\"black\" d=\"M324.49,-45.5C332.29,-45.5 341.4,-45.5 351.21,-45.5\"/>\n",
       "<polygon fill=\"black\" stroke=\"black\" points=\"351.09,-49 361.09,-45.5 351.09,-42 351.09,-49\"/>\n",
       "</g>\n",
       "</g>\n",
       "</svg>\n"
      ],
      "text/plain": [
       "<graphviz.graphs.Digraph at 0x79678b6da170>"
      ]
     },
     "execution_count": 13,
     "metadata": {},
     "output_type": "execute_result"
    }
   ],
   "source": [
    "draw_dot(L)"
   ]
  },
  {
   "cell_type": "code",
   "execution_count": null,
   "id": "d58f87cf",
   "metadata": {
    "papermill": {
     "duration": 0.007258,
     "end_time": "2023-11-29T11:11:22.824152",
     "exception": false,
     "start_time": "2023-11-29T11:11:22.816894",
     "status": "completed"
    },
    "tags": []
   },
   "outputs": [],
   "source": []
  }
 ],
 "metadata": {
  "kaggle": {
   "accelerator": "none",
   "dataSources": [],
   "dockerImageVersionId": 30587,
   "isGpuEnabled": false,
   "isInternetEnabled": false,
   "language": "python",
   "sourceType": "notebook"
  },
  "kernelspec": {
   "display_name": "Python 3",
   "language": "python",
   "name": "python3"
  },
  "language_info": {
   "codemirror_mode": {
    "name": "ipython",
    "version": 3
   },
   "file_extension": ".py",
   "mimetype": "text/x-python",
   "name": "python",
   "nbconvert_exporter": "python",
   "pygments_lexer": "ipython3",
   "version": "3.10.12"
  },
  "papermill": {
   "default_parameters": {},
   "duration": 4.952577,
   "end_time": "2023-11-29T11:11:23.254690",
   "environment_variables": {},
   "exception": null,
   "input_path": "__notebook__.ipynb",
   "output_path": "__notebook__.ipynb",
   "parameters": {},
   "start_time": "2023-11-29T11:11:18.302113",
   "version": "2.4.0"
  }
 },
 "nbformat": 4,
 "nbformat_minor": 5
}
